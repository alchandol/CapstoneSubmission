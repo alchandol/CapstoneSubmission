{
 "cells": [
  {
   "cell_type": "markdown",
   "id": "29c3e196",
   "metadata": {},
   "source": [
    "## Scraper"
   ]
  },
  {
   "cell_type": "code",
   "execution_count": 1,
   "id": "61663b5b",
   "metadata": {},
   "outputs": [],
   "source": [
    "import requests\n",
    "import pandas as pd\n",
    "\n",
    "from bs4 import BeautifulSoup as soup\n",
    "\n",
    "from urllib.parse import urljoin"
   ]
  },
  {
   "cell_type": "code",
   "execution_count": 2,
   "id": "b0b1a15e",
   "metadata": {},
   "outputs": [
    {
     "name": "stdout",
     "output_type": "stream",
     "text": [
      "{'User-Agent': 'Mozilla/5.0 (iPhone; CPU iPhone OS 16_6 like Mac OS X) AppleWebKit/605.1.15 (KHTML, like Gecko) Version/16.6 Mobile/15E148 Safari/604.1'}\n"
     ]
    }
   ],
   "source": [
    "##hardcode param\n",
    "\n",
    "#fisherphillips main directory\n",
    "fp_ppl = 'https://www.fisherphillips.com/en/people/index.html'\n",
    "\n",
    "\n",
    "#user agent\n",
    "headers = {\n",
    "    'User-Agent': 'Mozilla/5.0 (iPhone; CPU iPhone OS 16_6 like Mac OS X) AppleWebKit/605.1.15 (KHTML, like Gecko) Version/16.6 Mobile/15E148 Safari/604.1'\n",
    "          }\n",
    "print(headers)"
   ]
  },
  {
   "cell_type": "code",
   "execution_count": 3,
   "id": "e0e88fae",
   "metadata": {},
   "outputs": [
    {
     "name": "stdout",
     "output_type": "stream",
     "text": [
      "Target URL:  https://www.fisherphillips.com/en/people/index.html\n",
      "Status Code:  200\n",
      "\n",
      "\n",
      "Beautifying it... \n",
      "Done\n",
      "Closing Requests connection\n"
     ]
    }
   ],
   "source": [
    "#hitting the webpage for ppl list\n",
    "response = requests.get(fp_ppl, headers=headers)\n",
    "print('Target URL: ',response.url)\n",
    "print('Status Code: ',response.status_code )\n",
    "print('\\n')\n",
    "print('Beautifying it... ')\n",
    "\n",
    "#make it pretty using BS4\n",
    "souped = soup(response.content, 'html.parser')\n",
    "\n",
    "print('Done')\n",
    "print('Closing Requests connection')\n",
    "#response.close()\n"
   ]
  },
  {
   "cell_type": "code",
   "execution_count": 4,
   "id": "d47eec5e",
   "metadata": {},
   "outputs": [
    {
     "data": {
      "text/plain": [
       "'https://www.fisherphillips.com/en/people/sheila-m-abron.html'"
      ]
     },
     "execution_count": 4,
     "metadata": {},
     "output_type": "execute_result"
    }
   ],
   "source": [
    "result = souped.find_all(\"dt\",{\"class\":\"type__h3\"})\n",
    "result[1].a['href']\n"
   ]
  },
  {
   "cell_type": "code",
   "execution_count": 19,
   "id": "2cfa0eea",
   "metadata": {},
   "outputs": [
    {
     "name": "stdout",
     "output_type": "stream",
     "text": [
      "This is page 1 of all available associates.\n"
     ]
    }
   ],
   "source": [
    "\n",
    "print('This is page 1 of all available associates.')\n"
   ]
  },
  {
   "cell_type": "markdown",
   "id": "f0f57e3b",
   "metadata": {},
   "source": [
    "#### Pagination workaround attempt"
   ]
  },
  {
   "cell_type": "code",
   "execution_count": 6,
   "id": "cf1665f7",
   "metadata": {},
   "outputs": [
    {
     "name": "stdout",
     "output_type": "stream",
     "text": [
      "Target ouf of scope URL:  https://www.fisherphillips.com/en/people/index.html?f=660\n",
      "Status Code:  200\n",
      "\n",
      "\n",
      "this method wont work as pages are still valid and return status code 200 even if the page has no data \n"
     ]
    }
   ],
   "source": [
    "#manual test for end of page\n",
    "\n",
    "url = 'https://www.fisherphillips.com/en/people/index.html?f=660'\n",
    "\n",
    "test = requests.get(url, headers=headers)\n",
    "print('Target ouf of scope URL: ',test.url)\n",
    "print('Status Code: ',test.status_code )\n",
    "print('\\n')\n",
    "\n",
    "#decision\n",
    "print('this method won''t work as pages are still valid and return status code 200 even if the page has no data ')"
   ]
  },
  {
   "cell_type": "markdown",
   "id": "cd3c5863",
   "metadata": {},
   "source": [
    "### Extract profile links out of People page"
   ]
  },
  {
   "cell_type": "code",
   "execution_count": 20,
   "id": "16fdcd27",
   "metadata": {},
   "outputs": [
    {
     "data": {
      "text/plain": [
       "[<dt class=\"type__h3\"><a class=\"styles__anchor--c264e2c1 styles__colorOnHover--b31a18f2 styles__anchor--c264e2c1\" href=\"https://www.fisherphillips.com/en/people/michael-v-abcarian.html\"><span>Michael V. Abcarian</span></a></dt>,\n",
       " <dt class=\"type__h3\"><a class=\"styles__anchor--c264e2c1 styles__colorOnHover--b31a18f2 styles__anchor--c264e2c1\" href=\"https://www.fisherphillips.com/en/people/sheila-m-abron.html\"><span>Sheila M. Abron (Willis)</span></a></dt>,\n",
       " <dt class=\"type__h3\"><a class=\"styles__anchor--c264e2c1 styles__colorOnHover--b31a18f2 styles__anchor--c264e2c1\" href=\"https://www.fisherphillips.com/en/people/george-d-adams.html\"><span>George D. Adams</span></a></dt>,\n",
       " <dt class=\"type__h3\"><a class=\"styles__anchor--c264e2c1 styles__colorOnHover--b31a18f2 styles__anchor--c264e2c1\" href=\"https://www.fisherphillips.com/en/people/vincent-j-adams.html\"><span>Vincent J. Adams</span></a></dt>,\n",
       " <dt class=\"type__h3\"><a class=\"styles__anchor--c264e2c1 styles__colorOnHover--b31a18f2 styles__anchor--c264e2c1\" href=\"https://www.fisherphillips.com/en/people/nazanin-afshar.html\"><span>Nazanin Afshar</span></a></dt>,\n",
       " <dt class=\"type__h3\"><a class=\"styles__anchor--c264e2c1 styles__colorOnHover--b31a18f2 styles__anchor--c264e2c1\" href=\"https://www.fisherphillips.com/en/people/isaiah-alba.html\"><span>Isaiah Alba</span></a></dt>,\n",
       " <dt class=\"type__h3\"><a class=\"styles__anchor--c264e2c1 styles__colorOnHover--b31a18f2 styles__anchor--c264e2c1\" href=\"https://www.fisherphillips.com/en/people/stephanie-r-alexander.html\"><span>Stephanie R. Alexander</span></a></dt>,\n",
       " <dt class=\"type__h3\"><a class=\"styles__anchor--c264e2c1 styles__colorOnHover--b31a18f2 styles__anchor--c264e2c1\" href=\"https://www.fisherphillips.com/en/people/erin-gibson-allen.html\"><span>Erin Gibson Allen</span></a></dt>,\n",
       " <dt class=\"type__h3\"><a class=\"styles__anchor--c264e2c1 styles__colorOnHover--b31a18f2 styles__anchor--c264e2c1\" href=\"https://www.fisherphillips.com/en/people/william-e-altman.html\"><span>William E. Altman</span></a></dt>,\n",
       " <dt class=\"type__h3\"><a class=\"styles__anchor--c264e2c1 styles__colorOnHover--b31a18f2 styles__anchor--c264e2c1\" href=\"https://www.fisherphillips.com/en/people/steven-p-alvarado.html\"><span>Steven P. Alvarado</span></a></dt>,\n",
       " <dt class=\"type__h3\"><a class=\"styles__anchor--c264e2c1 styles__colorOnHover--b31a18f2 styles__anchor--c264e2c1\" href=\"https://www.fisherphillips.com/en/people/christopher-alvarez.html\"><span>Christopher Alvarez</span></a></dt>,\n",
       " <dt class=\"type__h3\"><a class=\"styles__anchor--c264e2c1 styles__colorOnHover--b31a18f2 styles__anchor--c264e2c1\" href=\"https://www.fisherphillips.com/en/people/emily-alvarez.html\"><span>Emily Alvarez</span></a></dt>,\n",
       " <dt class=\"type__h3\"><a class=\"styles__anchor--c264e2c1 styles__colorOnHover--b31a18f2 styles__anchor--c264e2c1\" href=\"https://www.fisherphillips.com/en/people/david-e-amaya.html\"><span>David E. Amaya</span></a></dt>,\n",
       " <dt class=\"type__h3\"><a class=\"styles__anchor--c264e2c1 styles__colorOnHover--b31a18f2 styles__anchor--c264e2c1\" href=\"https://www.fisherphillips.com/en/people/joseph-w-ambash.html\"><span>Joseph W. Ambash</span></a></dt>,\n",
       " <dt class=\"type__h3\"><a class=\"styles__anchor--c264e2c1 styles__colorOnHover--b31a18f2 styles__anchor--c264e2c1\" href=\"https://www.fisherphillips.com/en/people/alyssa-levy.html\"><span>Alyssa Levy Andalman</span></a></dt>,\n",
       " <dt class=\"type__h3\"><a class=\"styles__anchor--c264e2c1 styles__colorOnHover--b31a18f2 styles__anchor--c264e2c1\" href=\"https://www.fisherphillips.com/en/people/bruce-c-anderson.html\"><span>Bruce C. Anderson</span></a></dt>,\n",
       " <dt class=\"type__h3\"><a class=\"styles__anchor--c264e2c1 styles__colorOnHover--b31a18f2 styles__anchor--c264e2c1\" href=\"https://www.fisherphillips.com/en/people/lucy-anderson.html\"><span>Lucy Anderson</span></a></dt>,\n",
       " <dt class=\"type__h3\"><a class=\"styles__anchor--c264e2c1 styles__colorOnHover--b31a18f2 styles__anchor--c264e2c1\" href=\"https://www.fisherphillips.com/en/people/michelle-i-anderson.html\"><span>Michelle I. Anderson</span></a></dt>,\n",
       " <dt class=\"type__h3\"><a class=\"styles__anchor--c264e2c1 styles__colorOnHover--b31a18f2 styles__anchor--c264e2c1\" href=\"https://www.fisherphillips.com/en/people/mitchell-anderson.html\"><span>Mitchell Anderson</span></a></dt>,\n",
       " <dt class=\"type__h3\"><a class=\"styles__anchor--c264e2c1 styles__colorOnHover--b31a18f2 styles__anchor--c264e2c1\" href=\"https://www.fisherphillips.com/en/people/nicholas-g-anhold.html\"><span>Nicholas G. Anhold</span></a></dt>]"
      ]
     },
     "execution_count": 20,
     "metadata": {},
     "output_type": "execute_result"
    }
   ],
   "source": [
    "#list of profiles in pg1 of People\n",
    "result"
   ]
  },
  {
   "cell_type": "code",
   "execution_count": 21,
   "id": "8c647fb5",
   "metadata": {},
   "outputs": [
    {
     "name": "stdout",
     "output_type": "stream",
     "text": [
      "['https://www.fisherphillips.com/en/people/michael-v-abcarian.html', 'https://www.fisherphillips.com/en/people/sheila-m-abron.html', 'https://www.fisherphillips.com/en/people/george-d-adams.html', 'https://www.fisherphillips.com/en/people/vincent-j-adams.html', 'https://www.fisherphillips.com/en/people/nazanin-afshar.html', 'https://www.fisherphillips.com/en/people/isaiah-alba.html', 'https://www.fisherphillips.com/en/people/stephanie-r-alexander.html', 'https://www.fisherphillips.com/en/people/erin-gibson-allen.html', 'https://www.fisherphillips.com/en/people/william-e-altman.html', 'https://www.fisherphillips.com/en/people/steven-p-alvarado.html', 'https://www.fisherphillips.com/en/people/christopher-alvarez.html', 'https://www.fisherphillips.com/en/people/emily-alvarez.html', 'https://www.fisherphillips.com/en/people/david-e-amaya.html', 'https://www.fisherphillips.com/en/people/joseph-w-ambash.html', 'https://www.fisherphillips.com/en/people/alyssa-levy.html', 'https://www.fisherphillips.com/en/people/bruce-c-anderson.html', 'https://www.fisherphillips.com/en/people/lucy-anderson.html', 'https://www.fisherphillips.com/en/people/michelle-i-anderson.html', 'https://www.fisherphillips.com/en/people/mitchell-anderson.html', 'https://www.fisherphillips.com/en/people/nicholas-g-anhold.html']\n",
      "\n",
      "\n",
      "successful!\n"
     ]
    }
   ],
   "source": [
    "#profile url extraction \n",
    "\n",
    "profiles = []\n",
    "\n",
    "for item in result:\n",
    "    \n",
    "    profiles.append(item.findChild('a')['href'])\n",
    "\n",
    "print(profiles)\n",
    "print('\\n')\n",
    "print('successful!')"
   ]
  },
  {
   "cell_type": "markdown",
   "id": "3975a62d",
   "metadata": {},
   "source": [
    "### Extract Bio and store in dataframe from Profile page"
   ]
  },
  {
   "cell_type": "code",
   "execution_count": 22,
   "id": "02ab76ef",
   "metadata": {},
   "outputs": [],
   "source": [
    "df = pd.DataFrame"
   ]
  },
  {
   "cell_type": "code",
   "execution_count": 23,
   "id": "a3925bf1",
   "metadata": {},
   "outputs": [
    {
     "data": {
      "text/plain": [
       "bs4.element.ResultSet"
      ]
     },
     "execution_count": 23,
     "metadata": {},
     "output_type": "execute_result"
    }
   ],
   "source": [
    "type(result)"
   ]
  },
  {
   "cell_type": "code",
   "execution_count": 24,
   "id": "eebf4c7e",
   "metadata": {},
   "outputs": [
    {
     "name": "stdout",
     "output_type": "stream",
     "text": [
      "Target URL:  https://www.fisherphillips.com/en/people/michael-v-abcarian.html\n",
      "Status Code:  200\n",
      "\n",
      "\n",
      "Beautifying it... \n",
      "Done\n",
      "Closing Requests connection\n"
     ]
    }
   ],
   "source": [
    "#hitting the webpage for ppl list\n",
    "attr_prf = requests.get(profiles[0], headers=headers)\n",
    "print('Target URL: ',attr_prf.url)\n",
    "print('Status Code: ',attr_prf.status_code )\n",
    "print('\\n')\n",
    "print('Beautifying it... ')\n",
    "\n",
    "#make it pretty using BS4\n",
    "prf_soup = soup(attr_prf.content, 'html.parser')\n",
    "\n",
    "print('Done')\n",
    "print('Closing Requests connection')\n",
    "#response.close()"
   ]
  },
  {
   "cell_type": "code",
   "execution_count": 26,
   "id": "526a4aa6",
   "metadata": {},
   "outputs": [
    {
     "data": {
      "text/plain": [
       "[<div class=\"rte\">\n",
       " <p>Mike Abcarian is managing partner of the firm's Dallas office. For over 30 years he has represented Fortune 500 corporations, units of local government, and local business interests in labor and employment matters.</p>\n",
       " <p>He has handled hundreds of lawsuits in federal and state courts with an exceptional success record, including lead counsel defense of complex litigation and nationwide class actions.</p>\n",
       " <p>Many of Mike's successful cases resulted in defense verdicts for employer clients following trial by jury. Mike also handles complex workplace safety matters, including fatality investigations, and has represented employers in high-visibility proceedings before the Occupational Safety and Health Administration (OSHA).</p>\n",
       " <p>He has handled significant compensation compliance matters--some involving thousands of employees--in proceedings before the Wage &amp; Hour Division of the U. S. Department of Labor (USDOL). Mike also appears frequently before the Equal Employment Opportunity Commission (EEOC) defending employers in discrimination matters. </p>\n",
       " <p>He also represents employers before the National Labor Relations Board (NLRB) in union representation proceedings and unfair labor practice proceedings, and in arbitration of labor disputes and labor contract negotiations.</p>\n",
       " <p>Throughout his career, Mike has been a sought-after speaker and a prolific author on labor and employment law issues.</p>\n",
       " <p>He is \"AV\" Peer Review Rated by Martindale-Hubbell for preeminent skill and ethics, and he has been listed in <em>Texas Super Lawyers</em> every year since 2004. Mike has also been listed in <em>Best Lawyers in America</em> since 2012 and was listed in <em>Chambers USA</em> since 2016.</p>\n",
       " <p><span>In 2018, Mike was inducted as a Fellow into The College of Labor and Employment Lawyers. Election as a Fellow is the highest recognition by an attorney's colleagues of sustained outstanding performance in the profession, exemplifying integrity, dedication and excellence. </span></p>\n",
       " <p> </p>\n",
       " </div>,\n",
       " <div class=\"rte\">\n",
       " <h3 class=\"styles__tabSubheading--eecd4fff\">Education</h3>\n",
       " <ul>\n",
       " <li><span class=\"rte-title-mode\">J.D., 1977, Boston College Law School</span></li>\n",
       " <li><span class=\"rte-title-mode\">A.B., 1974, with honors, University of California, Berkeley</span></li>\n",
       " </ul>\n",
       " <h3 class=\"styles__tabSubheading--eecd4fff\">Bar Admissions</h3>\n",
       " <ul>\n",
       " <li><span class=\"rte-title-mode\">Georgia</span></li>\n",
       " <li><span class=\"rte-title-mode\">Texas</span></li>\n",
       " </ul>\n",
       " <h3 class=\"styles__tabSubheading--eecd4fff\">Court Admissions</h3>\n",
       " <ul>\n",
       " <li><span class=\"rte-title-mode\">Florida Supreme Court</span></li>\n",
       " <li><span class=\"rte-title-mode\">Georgia Court of Appeals</span></li>\n",
       " <li><span class=\"rte-title-mode\">Georgia Supreme Court</span></li>\n",
       " <li><span class=\"rte-title-mode\">Texas Supreme Court</span></li>\n",
       " <li><span class=\"rte-title-mode\">Texas Courts of Appeals</span></li>\n",
       " <li><span class=\"rte-title-mode\">U.S. Court of Appeals for the Eighth Circuit</span></li>\n",
       " <li><span class=\"rte-title-mode\">U.S. Court of Appeals for the Fifth Circuit</span></li>\n",
       " <li><span class=\"rte-title-mode\">U.S. Court of Appeals for the Seventh Circuit</span></li>\n",
       " <li><span class=\"rte-title-mode\">U.S. Court of Appeals for the Tenth Circuit</span></li>\n",
       " <li><span class=\"rte-title-mode\">U.S. District Court for the Eastern District of Texas</span></li>\n",
       " <li><span class=\"rte-title-mode\">U.S. District Court for the Middle District of Florida</span></li>\n",
       " <li><span class=\"rte-title-mode\">U.S. District Court for the Middle District of Georgia</span></li>\n",
       " <li><span class=\"rte-title-mode\">U.S. District Court for the Northern District of Georgia</span></li>\n",
       " <li><span class=\"rte-title-mode\">U.S. District Court for the Northern District of Texas</span></li>\n",
       " <li><span class=\"rte-title-mode\">U.S. District Court for the Southern District of Texas</span></li>\n",
       " <li><span class=\"rte-title-mode\">U.S. District Court for the Western District of Texas</span></li>\n",
       " <li><span class=\"rte-title-mode\">U.S. Supreme Court</span></li>\n",
       " </ul>\n",
       " </div>,\n",
       " <div class=\"rte\">\n",
       " <ul>\n",
       " <li>Recognized in <em>The Best Lawyers in America</em> (2013 – 2024)</li>\n",
       " <li>Inducted as a Fellow into The College of Labor and Employment Lawyers (2018)</li>\n",
       " <li><em>Chambers USA (2016-present)</em></li>\n",
       " <li><em>Texas Super Lawyers</em> (2005-present)</li>\n",
       " </ul>\n",
       " </div>,\n",
       " <div class=\"rte\">\n",
       " <p><strong>Professional Activities</strong></p>\n",
       " <ul>\n",
       " <li>Board Certified in Labor and Employment Law by the Texas Board of Legal Specialization</li>\n",
       " <li>Member, American Bar Association, Labor and Employment Law Section</li>\n",
       " <li>Member, State Bar of Texas, Labor and Employment Law Section</li>\n",
       " <li>Fellow of the American Bar Foundation</li>\n",
       " </ul>\n",
       " </div>]"
      ]
     },
     "execution_count": 26,
     "metadata": {},
     "output_type": "execute_result"
    }
   ],
   "source": [
    "#bio - has all profile data\n",
    "bio = prf_soup.find_all(\"div\", {\"class\": \"rte\"})\n",
    "bio"
   ]
  },
  {
   "cell_type": "code",
   "execution_count": 27,
   "id": "e82adb56",
   "metadata": {},
   "outputs": [
    {
     "data": {
      "text/plain": [
       "'Mike Abcarian is managing partner of the firm\\'s Dallas office. For over 30 years he has represented Fortune 500 corporations, units of local government, and local business interests in labor and employment matters. He has handled hundreds of lawsuits in federal and state courts with an exceptional success record, including lead counsel defense of complex litigation and nationwide class actions. Many of Mike\\'s successful cases resulted in defense verdicts for employer clients following trial by jury. Mike also handles complex workplace safety matters, including fatality investigations, and has represented employers in high-visibility proceedings before the Occupational Safety and Health Administration (OSHA). He has handled significant compensation compliance matters--some involving thousands of employees--in proceedings before the Wage & Hour Division of the U. S. Department of Labor (USDOL). Mike also appears frequently before the Equal Employment Opportunity Commission (EEOC) defending employers in discrimination matters.  He also represents employers before the National Labor Relations Board (NLRB) in union representation proceedings and unfair labor practice proceedings, and in arbitration of labor disputes and labor contract negotiations. Throughout his career, Mike has been a sought-after speaker and a prolific author on labor and employment law issues. He is \"AV\" Peer Review Rated by Martindale-Hubbell for preeminent skill and ethics, and he has been listed in Texas Super Lawyers every year since 2004. Mike has also been listed in Best Lawyers in America since 2012 and was listed in Chambers USA since 2016. In 2018, Mike was inducted as a Fellow into The College of Labor and Employment Lawyers. Election as a Fellow is the highest recognition by an attorney\\'s colleagues of sustained outstanding performance in the profession, exemplifying integrity, dedication and excellence.   '"
      ]
     },
     "execution_count": 27,
     "metadata": {},
     "output_type": "execute_result"
    }
   ],
   "source": [
    "#get overview\n",
    "\n",
    "#clean up tags\n",
    "overview = [str(x.text) for x in bio[0].find_all('p')]\n",
    "overview = ' '.join(overview).replace(u'\\xa0', u' ')\n",
    "\n",
    "#unicode/charactor encoding  : look into unicodedata.normalize\n",
    "overview "
   ]
  },
  {
   "cell_type": "code",
   "execution_count": 28,
   "id": "86ffebee",
   "metadata": {},
   "outputs": [
    {
     "data": {
      "text/plain": [
       "['J.D., 1977, Boston College Law School',\n",
       " 'A.B., 1974, with honors, University of California, Berkeley']"
      ]
     },
     "execution_count": 28,
     "metadata": {},
     "output_type": "execute_result"
    }
   ],
   "source": [
    "#get education\n",
    "\n",
    "tmp = []\n",
    "\n",
    "#for loop for possible iteration\n",
    "target = bio[1].find('h3',string='Education')\n",
    "for sib in target.find_next_siblings():\n",
    "    if sib.name==\"h3\":\n",
    "        break\n",
    "    else:\n",
    "        \n",
    "        tmp.append(sib.text)\n",
    "        \n",
    "for i in tmp:\n",
    "    x = i.split(\"\\n\")\n",
    "\n",
    "edu = [z for z in x if z != '']\n",
    "edu"
   ]
  },
  {
   "cell_type": "code",
   "execution_count": 29,
   "id": "fbf82fd6",
   "metadata": {},
   "outputs": [
    {
     "data": {
      "text/plain": [
       "['Georgia', 'Texas']"
      ]
     },
     "execution_count": 29,
     "metadata": {},
     "output_type": "execute_result"
    }
   ],
   "source": [
    "#get bar admissions\n",
    "\n",
    "tmp = []\n",
    "\n",
    "#for loop for possible iteration\n",
    "target = bio[1].find('h3',string='Bar Admissions')\n",
    "for sib in target.find_next_siblings():\n",
    "    if sib.name==\"h3\":\n",
    "        break\n",
    "    else:\n",
    "        \n",
    "        tmp.append(sib.text)\n",
    "        \n",
    "for i in tmp:\n",
    "    x = i.split(\"\\n\")\n",
    "\n",
    "bar = [z for z in x if z != '']\n",
    "bar"
   ]
  },
  {
   "cell_type": "code",
   "execution_count": 30,
   "id": "0c42fb9b",
   "metadata": {},
   "outputs": [
    {
     "data": {
      "text/plain": [
       "['Florida Supreme Court',\n",
       " 'Georgia Court of Appeals',\n",
       " 'Georgia Supreme Court',\n",
       " 'Texas Supreme Court',\n",
       " 'Texas Courts of Appeals',\n",
       " 'U.S. Court of Appeals for the Eighth Circuit',\n",
       " 'U.S. Court of Appeals for the Fifth Circuit',\n",
       " 'U.S. Court of Appeals for the Seventh Circuit',\n",
       " 'U.S. Court of Appeals for the Tenth Circuit',\n",
       " 'U.S. District Court for the Eastern District of Texas',\n",
       " 'U.S. District Court for the Middle District of Florida',\n",
       " 'U.S. District Court for the Middle District of Georgia',\n",
       " 'U.S. District Court for the Northern District of Georgia',\n",
       " 'U.S. District Court for the Northern District of Texas',\n",
       " 'U.S. District Court for the Southern District of Texas',\n",
       " 'U.S. District Court for the Western District of Texas',\n",
       " 'U.S. Supreme Court']"
      ]
     },
     "execution_count": 30,
     "metadata": {},
     "output_type": "execute_result"
    }
   ],
   "source": [
    "#get court admissions\n",
    "\n",
    "tmp = []\n",
    "\n",
    "#for loop for possible iteration\n",
    "target = bio[1].find('h3',string='Court Admissions')\n",
    "for sib in target.find_next_siblings():\n",
    "    if sib.name==\"h3\":\n",
    "        break\n",
    "    else:\n",
    "        tmp.append(sib.text)\n",
    "        \n",
    "for i in tmp:\n",
    "    x = i.split(\"\\n\")\n",
    "\n",
    "court = [z for z in x if z != '']\n",
    "court"
   ]
  },
  {
   "cell_type": "code",
   "execution_count": 31,
   "id": "2702ba95",
   "metadata": {},
   "outputs": [
    {
     "data": {
      "text/plain": [
       "['Recognized in The Best Lawyers in America (2013 – 2024)',\n",
       " 'Inducted as a Fellow into The College of Labor and Employment Lawyers (2018)',\n",
       " 'Chambers USA (2016-present)',\n",
       " 'Texas Super Lawyers (2005-present)']"
      ]
     },
     "execution_count": 31,
     "metadata": {},
     "output_type": "execute_result"
    }
   ],
   "source": [
    "#get recognitions\n",
    "\n",
    "recog = []\n",
    "\n",
    "for item in bio[2].find_all('li'):\n",
    "    recog.append(item.text)\n",
    "    \n",
    "recog"
   ]
  },
  {
   "cell_type": "code",
   "execution_count": 32,
   "id": "e3c4ac00",
   "metadata": {},
   "outputs": [
    {
     "data": {
      "text/plain": [
       "['Board Certified in Labor and Employment Law by the Texas Board of Legal Specialization',\n",
       " 'Member, American Bar Association, Labor and Employment Law Section',\n",
       " 'Member, State Bar of Texas, Labor and Employment Law Section',\n",
       " 'Fellow of the American Bar Foundation']"
      ]
     },
     "execution_count": 32,
     "metadata": {},
     "output_type": "execute_result"
    }
   ],
   "source": [
    "#get affiliations\n",
    "\n",
    "affil = []\n",
    "\n",
    "for item in bio[3].find_all('li'):\n",
    "    affil.append(item.text)\n",
    "    \n",
    "affil"
   ]
  },
  {
   "cell_type": "code",
   "execution_count": 33,
   "id": "82904d47",
   "metadata": {},
   "outputs": [],
   "source": [
    "#name\n",
    "#<meta content=\"Michael V. Abcarian\" property=\"og:title\"/>\n",
    "\n",
    "name = prf_soup.find(\"meta\", {\"property\": \"og:title\"})['content']"
   ]
  },
  {
   "cell_type": "code",
   "execution_count": 34,
   "id": "52c92482",
   "metadata": {},
   "outputs": [
    {
     "name": "stdout",
     "output_type": "stream",
     "text": [
      "Michael V. Abcarian\n"
     ]
    }
   ],
   "source": [
    "print(prf_soup.find(\"meta\", {\"property\": \"og:title\"})['content'])"
   ]
  },
  {
   "cell_type": "code",
   "execution_count": 36,
   "id": "68281cf8",
   "metadata": {},
   "outputs": [
    {
     "data": {
      "text/plain": [
       "<h2 class=\"type__h5\">Service Focus</h2>"
      ]
     },
     "execution_count": 36,
     "metadata": {},
     "output_type": "execute_result"
    }
   ],
   "source": [
    "#focus - has all focus data\n",
    "focus = prf_soup.find(\"h2\", string= \"Service Focus\")\n",
    "focus"
   ]
  },
  {
   "cell_type": "code",
   "execution_count": 37,
   "id": "f9a35b27",
   "metadata": {},
   "outputs": [
    {
     "data": {
      "text/plain": [
       "['Class and Collective Actions',\n",
       " 'Labor Relations',\n",
       " 'Litigation and Trials',\n",
       " 'Workplace Safety and Catastrophe Management',\n",
       " 'Wage and Hour']"
      ]
     },
     "execution_count": 37,
     "metadata": {},
     "output_type": "execute_result"
    }
   ],
   "source": [
    "#get service focus\n",
    "\n",
    "tmp = []\n",
    "\n",
    "#for loop for possible iteration\n",
    "focus = prf_soup.find(\"h2\", string= \"Service Focus\")\n",
    "for sib in focus.find_next_siblings():\n",
    "    if sib.name==\"h2\":\n",
    "        break\n",
    "    else:\n",
    "        tmp.append(sib.text)\n",
    "        \n",
    "for i in tmp:\n",
    "    x = i.split(\"\\n\")\n",
    "\n",
    "serFoc = [z for z in x if z != '']\n",
    "serFoc"
   ]
  },
  {
   "cell_type": "code",
   "execution_count": 38,
   "id": "bbf19b4d",
   "metadata": {},
   "outputs": [
    {
     "data": {
      "text/plain": [
       "['Education', 'K-12 Institutions']"
      ]
     },
     "execution_count": 38,
     "metadata": {},
     "output_type": "execute_result"
    }
   ],
   "source": [
    "#get industry focus\n",
    "\n",
    "tmp = []\n",
    "\n",
    "#for loop for possible iteration\n",
    "focus = prf_soup.find(\"h2\", string= \"Industry Focus\")\n",
    "for sib in focus.find_next_siblings():\n",
    "    if sib.name==\"h2\":\n",
    "        break\n",
    "    else:\n",
    "        tmp.append(sib.text)\n",
    "        \n",
    "for i in tmp:\n",
    "    x = i.split(\"\\n\")\n",
    "\n",
    "indFoc = [z for z in x if z != '']\n",
    "indFoc"
   ]
  },
  {
   "cell_type": "markdown",
   "id": "12ab8f8d",
   "metadata": {},
   "source": [
    "### Building DataFrame"
   ]
  },
  {
   "cell_type": "code",
   "execution_count": 39,
   "id": "0ba39dee",
   "metadata": {},
   "outputs": [
    {
     "data": {
      "text/html": [
       "<div>\n",
       "<style scoped>\n",
       "    .dataframe tbody tr th:only-of-type {\n",
       "        vertical-align: middle;\n",
       "    }\n",
       "\n",
       "    .dataframe tbody tr th {\n",
       "        vertical-align: top;\n",
       "    }\n",
       "\n",
       "    .dataframe thead th {\n",
       "        text-align: right;\n",
       "    }\n",
       "</style>\n",
       "<table border=\"1\" class=\"dataframe\">\n",
       "  <thead>\n",
       "    <tr style=\"text-align: right;\">\n",
       "      <th></th>\n",
       "      <th>name</th>\n",
       "      <th>overview</th>\n",
       "      <th>serviceFocus</th>\n",
       "      <th>industryFocus</th>\n",
       "      <th>education</th>\n",
       "      <th>barAdmissions</th>\n",
       "      <th>courtAdmissions</th>\n",
       "      <th>recognitions</th>\n",
       "      <th>affiliations</th>\n",
       "    </tr>\n",
       "  </thead>\n",
       "  <tbody>\n",
       "  </tbody>\n",
       "</table>\n",
       "</div>"
      ],
      "text/plain": [
       "Empty DataFrame\n",
       "Columns: [name, overview, serviceFocus, industryFocus, education, barAdmissions, courtAdmissions, recognitions, affiliations]\n",
       "Index: []"
      ]
     },
     "execution_count": 39,
     "metadata": {},
     "output_type": "execute_result"
    }
   ],
   "source": [
    "fpbio = pd.DataFrame(columns=['name','overview','serviceFocus','industryFocus','education','barAdmissions','courtAdmissions','recognitions','affiliations'])\n",
    "fpbio"
   ]
  },
  {
   "cell_type": "code",
   "execution_count": 40,
   "id": "5f249336",
   "metadata": {},
   "outputs": [
    {
     "data": {
      "text/html": [
       "<div>\n",
       "<style scoped>\n",
       "    .dataframe tbody tr th:only-of-type {\n",
       "        vertical-align: middle;\n",
       "    }\n",
       "\n",
       "    .dataframe tbody tr th {\n",
       "        vertical-align: top;\n",
       "    }\n",
       "\n",
       "    .dataframe thead th {\n",
       "        text-align: right;\n",
       "    }\n",
       "</style>\n",
       "<table border=\"1\" class=\"dataframe\">\n",
       "  <thead>\n",
       "    <tr style=\"text-align: right;\">\n",
       "      <th></th>\n",
       "      <th>name</th>\n",
       "      <th>overview</th>\n",
       "      <th>serviceFocus</th>\n",
       "      <th>industryFocus</th>\n",
       "      <th>education</th>\n",
       "      <th>barAdmissions</th>\n",
       "      <th>courtAdmissions</th>\n",
       "      <th>recognitions</th>\n",
       "      <th>affiliations</th>\n",
       "    </tr>\n",
       "  </thead>\n",
       "  <tbody>\n",
       "    <tr>\n",
       "      <th>0</th>\n",
       "      <td>Michael V. Abcarian</td>\n",
       "      <td>Mike Abcarian is managing partner of the firm'...</td>\n",
       "      <td>[Class and Collective Actions, Labor Relations...</td>\n",
       "      <td>[Education, K-12 Institutions]</td>\n",
       "      <td>[J.D., 1977, Boston College Law School, A.B., ...</td>\n",
       "      <td>[Georgia, Texas]</td>\n",
       "      <td>[Florida Supreme Court, Georgia Court of Appea...</td>\n",
       "      <td>[Recognized in The Best Lawyers in America (20...</td>\n",
       "      <td>[Board Certified in Labor and Employment Law b...</td>\n",
       "    </tr>\n",
       "  </tbody>\n",
       "</table>\n",
       "</div>"
      ],
      "text/plain": [
       "                  name                                           overview  \\\n",
       "0  Michael V. Abcarian  Mike Abcarian is managing partner of the firm'...   \n",
       "\n",
       "                                        serviceFocus  \\\n",
       "0  [Class and Collective Actions, Labor Relations...   \n",
       "\n",
       "                    industryFocus  \\\n",
       "0  [Education, K-12 Institutions]   \n",
       "\n",
       "                                           education     barAdmissions  \\\n",
       "0  [J.D., 1977, Boston College Law School, A.B., ...  [Georgia, Texas]   \n",
       "\n",
       "                                     courtAdmissions  \\\n",
       "0  [Florida Supreme Court, Georgia Court of Appea...   \n",
       "\n",
       "                                        recognitions  \\\n",
       "0  [Recognized in The Best Lawyers in America (20...   \n",
       "\n",
       "                                        affiliations  \n",
       "0  [Board Certified in Labor and Employment Law b...  "
      ]
     },
     "execution_count": 40,
     "metadata": {},
     "output_type": "execute_result"
    }
   ],
   "source": [
    "new = {\n",
    "    'name':name,\n",
    "    'overview':overview,\n",
    "    'serviceFocus':serFoc,\n",
    "    'industryFocus':indFoc,\n",
    "    'education':edu,\n",
    "    'barAdmissions':bar,\n",
    "    'courtAdmissions':court,\n",
    "    'recognitions':recog,\n",
    "    'affiliations':affil\n",
    "}\n",
    "\n",
    "df = pd.DataFrame.from_dict(new, orient='index')\n",
    "df = df.transpose()\n",
    "df"
   ]
  },
  {
   "cell_type": "code",
   "execution_count": 41,
   "id": "f6594a42",
   "metadata": {},
   "outputs": [
    {
     "data": {
      "text/html": [
       "<div>\n",
       "<style scoped>\n",
       "    .dataframe tbody tr th:only-of-type {\n",
       "        vertical-align: middle;\n",
       "    }\n",
       "\n",
       "    .dataframe tbody tr th {\n",
       "        vertical-align: top;\n",
       "    }\n",
       "\n",
       "    .dataframe thead th {\n",
       "        text-align: right;\n",
       "    }\n",
       "</style>\n",
       "<table border=\"1\" class=\"dataframe\">\n",
       "  <thead>\n",
       "    <tr style=\"text-align: right;\">\n",
       "      <th></th>\n",
       "      <th>index</th>\n",
       "      <th>name</th>\n",
       "      <th>overview</th>\n",
       "      <th>serviceFocus</th>\n",
       "      <th>industryFocus</th>\n",
       "      <th>education</th>\n",
       "      <th>barAdmissions</th>\n",
       "      <th>courtAdmissions</th>\n",
       "      <th>recognitions</th>\n",
       "      <th>affiliations</th>\n",
       "    </tr>\n",
       "  </thead>\n",
       "  <tbody>\n",
       "    <tr>\n",
       "      <th>0</th>\n",
       "      <td>0</td>\n",
       "      <td>Michael V. Abcarian</td>\n",
       "      <td>Mike Abcarian is managing partner of the firm'...</td>\n",
       "      <td>[Class and Collective Actions, Labor Relations...</td>\n",
       "      <td>[Education, K-12 Institutions]</td>\n",
       "      <td>[J.D., 1977, Boston College Law School, A.B., ...</td>\n",
       "      <td>[Georgia, Texas]</td>\n",
       "      <td>[Florida Supreme Court, Georgia Court of Appea...</td>\n",
       "      <td>[Recognized in The Best Lawyers in America (20...</td>\n",
       "      <td>[Board Certified in Labor and Employment Law b...</td>\n",
       "    </tr>\n",
       "  </tbody>\n",
       "</table>\n",
       "</div>"
      ],
      "text/plain": [
       "   index                 name  \\\n",
       "0      0  Michael V. Abcarian   \n",
       "\n",
       "                                            overview  \\\n",
       "0  Mike Abcarian is managing partner of the firm'...   \n",
       "\n",
       "                                        serviceFocus  \\\n",
       "0  [Class and Collective Actions, Labor Relations...   \n",
       "\n",
       "                    industryFocus  \\\n",
       "0  [Education, K-12 Institutions]   \n",
       "\n",
       "                                           education     barAdmissions  \\\n",
       "0  [J.D., 1977, Boston College Law School, A.B., ...  [Georgia, Texas]   \n",
       "\n",
       "                                     courtAdmissions  \\\n",
       "0  [Florida Supreme Court, Georgia Court of Appea...   \n",
       "\n",
       "                                        recognitions  \\\n",
       "0  [Recognized in The Best Lawyers in America (20...   \n",
       "\n",
       "                                        affiliations  \n",
       "0  [Board Certified in Labor and Employment Law b...  "
      ]
     },
     "execution_count": 41,
     "metadata": {},
     "output_type": "execute_result"
    }
   ],
   "source": [
    "fpbio = pd.concat([fpbio,df], ignore_index=False)\n",
    "fpbio.reset_index()"
   ]
  },
  {
   "cell_type": "markdown",
   "id": "42b67cf9",
   "metadata": {},
   "source": [
    "## Putting it altogether"
   ]
  },
  {
   "cell_type": "code",
   "execution_count": 42,
   "id": "b99ca152",
   "metadata": {},
   "outputs": [],
   "source": [
    "import requests\n",
    "import pandas as pd\n",
    "from bs4 import BeautifulSoup as soup\n",
    "from urllib.parse import urljoin\n",
    "from selenium import webdriver\n",
    "from selenium.webdriver.common.by import By\n",
    "import time"
   ]
  },
  {
   "cell_type": "code",
   "execution_count": 43,
   "id": "aabe784d",
   "metadata": {},
   "outputs": [
    {
     "data": {
      "text/html": [
       "<div>\n",
       "<style scoped>\n",
       "    .dataframe tbody tr th:only-of-type {\n",
       "        vertical-align: middle;\n",
       "    }\n",
       "\n",
       "    .dataframe tbody tr th {\n",
       "        vertical-align: top;\n",
       "    }\n",
       "\n",
       "    .dataframe thead th {\n",
       "        text-align: right;\n",
       "    }\n",
       "</style>\n",
       "<table border=\"1\" class=\"dataframe\">\n",
       "  <thead>\n",
       "    <tr style=\"text-align: right;\">\n",
       "      <th></th>\n",
       "      <th>name</th>\n",
       "      <th>overview</th>\n",
       "      <th>serviceFocus</th>\n",
       "      <th>industryFocus</th>\n",
       "      <th>education</th>\n",
       "      <th>barAdmissions</th>\n",
       "      <th>courtAdmissions</th>\n",
       "      <th>recognitions</th>\n",
       "      <th>affiliations</th>\n",
       "    </tr>\n",
       "  </thead>\n",
       "  <tbody>\n",
       "  </tbody>\n",
       "</table>\n",
       "</div>"
      ],
      "text/plain": [
       "Empty DataFrame\n",
       "Columns: [name, overview, serviceFocus, industryFocus, education, barAdmissions, courtAdmissions, recognitions, affiliations]\n",
       "Index: []"
      ]
     },
     "execution_count": 43,
     "metadata": {},
     "output_type": "execute_result"
    }
   ],
   "source": [
    "#fisherphillips main directory\n",
    "fp_ppl = 'https://www.fisherphillips.com/en/people/index.html'\n",
    "\n",
    "\n",
    "#user agent\n",
    "headers = {\n",
    "    'User-Agent': 'Mozilla/5.0 (iPhone; CPU iPhone OS 16_6 like Mac OS X) AppleWebKit/605.1.15 (KHTML, like Gecko) Version/16.6 Mobile/15E148 Safari/604.1'\n",
    "          }\n",
    "\n",
    "#create container dataframe\n",
    "fpbio = pd.DataFrame(columns=['name','overview','serviceFocus','industryFocus','education','barAdmissions','courtAdmissions','recognitions','affiliations'])\n",
    "fpbio"
   ]
  },
  {
   "cell_type": "code",
   "execution_count": 44,
   "id": "32821e89",
   "metadata": {},
   "outputs": [
    {
     "name": "stdout",
     "output_type": "stream",
     "text": [
      "Target URL:  https://www.fisherphillips.com/en/people/index.html\n",
      "Status Code:  200\n",
      "\n",
      "\n",
      "Beautifying it... \n",
      "Done\n",
      "\n",
      "\n",
      "Closing Requests connection\n",
      "\n",
      "\n",
      "Extracting urls out of html tag...\n",
      "successful!\n",
      "\n",
      "\n"
     ]
    }
   ],
   "source": [
    "\n",
    "#hitting the webpage for directory list\n",
    "response = requests.get(fp_ppl, headers=headers)\n",
    "print('Target URL: ',response.url)\n",
    "print('Status Code: ',response.status_code )\n",
    "print('\\n')\n",
    "\n",
    "print('Beautifying it... ')\n",
    "#make it pretty using BS4\n",
    "souped = soup(response.content, 'html.parser')\n",
    "print('Done')\n",
    "print('\\n')\n",
    "\n",
    "print('Closing Requests connection')\n",
    "response.close()\n",
    "print('\\n')\n",
    "\n",
    "#list of people bio tag and link in pg1 of directory\n",
    "result = souped.find_all(\"dt\",{\"class\":\"type__h3\"})\n",
    "#print(result)\n",
    "\n",
    "#people url extraction \n",
    "people = []\n",
    "for item in result: people.append(item.findChild('a')['href'])\n",
    "print('Extracting urls out of html tag...')\n",
    "#print(people)\n",
    "print('successful!')\n",
    "print('\\n')\n",
    "\n"
   ]
  },
  {
   "cell_type": "code",
   "execution_count": 45,
   "id": "a6eb568d",
   "metadata": {},
   "outputs": [],
   "source": [
    "#Selenium for subsequent page url extraction\n",
    "import selenium\n",
    "\n",
    "\n",
    "#set base case\n",
    "current_page = fp_ppl\n",
    "page_links = []\n",
    "page_links.append(current_page)\n",
    "\n",
    "#open browser\n",
    "driver = webdriver.Chrome()\n",
    "\n",
    "#open page\n",
    "driver.get(fp_ppl)\n",
    "time.sleep(5)\n",
    "\n",
    "#finding next page element\n",
    "next_button = driver.find_element(By.CSS_SELECTOR,'[aria-label=\"Next page\"]')\n",
    "#scroll to bottom\n",
    "driver.execute_script(\"window.scrollTo(0, document.body.scrollHeight);\")\n",
    "next_button.click()\n",
    "\n",
    "next_page = driver.current_url\n",
    "\n",
    "#make it iterative\n",
    "\n",
    "#while next_page != current_page:\n",
    "#getting 504 Gateway Time Out.  Need to look into this\n",
    "\n",
    "for i in range(5):\n",
    "    driver.get(next_page)\n",
    "    time.sleep(5)\n",
    "\n",
    "    current_page = next_page\n",
    "    page_links.append(current_page)\n",
    "\n",
    "    next_button = driver.find_element(By.CSS_SELECTOR,'[aria-label=\"Next page\"]')\n",
    "    driver.execute_script(\"window.scrollTo(0, document.body.scrollHeight);\")\n",
    "    next_button.click()\n",
    "    next_page = driver.current_url\n",
    "   "
   ]
  },
  {
   "cell_type": "code",
   "execution_count": 46,
   "id": "b94ef208",
   "metadata": {},
   "outputs": [
    {
     "data": {
      "text/plain": [
       "['https://www.fisherphillips.com/en/people/index.html',\n",
       " 'https://www.fisherphillips.com/en/people/index.html?f=20',\n",
       " 'https://www.fisherphillips.com/en/people/index.html?f=40',\n",
       " 'https://www.fisherphillips.com/en/people/index.html?f=60',\n",
       " 'https://www.fisherphillips.com/en/people/index.html?f=80',\n",
       " 'https://www.fisherphillips.com/en/people/index.html?f=100']"
      ]
     },
     "execution_count": 46,
     "metadata": {},
     "output_type": "execute_result"
    }
   ],
   "source": [
    " page_links"
   ]
  },
  {
   "cell_type": "code",
   "execution_count": 47,
   "id": "7147c426",
   "metadata": {},
   "outputs": [
    {
     "name": "stdout",
     "output_type": "stream",
     "text": [
      "https://www.fisherphillips.com/en/people/michael-v-abcarian.html\n",
      "https://www.fisherphillips.com/en/people/sheila-m-abron.html\n",
      "https://www.fisherphillips.com/en/people/george-d-adams.html\n",
      "https://www.fisherphillips.com/en/people/vincent-j-adams.html\n",
      "https://www.fisherphillips.com/en/people/nazanin-afshar.html\n",
      "https://www.fisherphillips.com/en/people/isaiah-alba.html\n",
      "https://www.fisherphillips.com/en/people/stephanie-r-alexander.html\n",
      "https://www.fisherphillips.com/en/people/erin-gibson-allen.html\n",
      "https://www.fisherphillips.com/en/people/william-e-altman.html\n",
      "https://www.fisherphillips.com/en/people/steven-p-alvarado.html\n",
      "https://www.fisherphillips.com/en/people/christopher-alvarez.html\n",
      "https://www.fisherphillips.com/en/people/emily-alvarez.html\n",
      "https://www.fisherphillips.com/en/people/david-e-amaya.html\n",
      "https://www.fisherphillips.com/en/people/joseph-w-ambash.html\n",
      "https://www.fisherphillips.com/en/people/alyssa-levy.html\n",
      "https://www.fisherphillips.com/en/people/bruce-c-anderson.html\n",
      "https://www.fisherphillips.com/en/people/lucy-anderson.html\n",
      "https://www.fisherphillips.com/en/people/michelle-i-anderson.html\n",
      "https://www.fisherphillips.com/en/people/mitchell-anderson.html\n",
      "https://www.fisherphillips.com/en/people/nicholas-g-anhold.html\n",
      "https://www.fisherphillips.com/en/people/craig-r-annunziata.html\n",
      "https://www.fisherphillips.com/en/people/christina-anton.html\n",
      "https://www.fisherphillips.com/en/people/juan-c-araneda.html\n",
      "https://www.fisherphillips.com/en/people/keia-james-atkinson.html\n",
      "https://www.fisherphillips.com/en/people/michael-p-avila.html\n",
      "https://www.fisherphillips.com/en/people/victor-manuel-avila.html\n",
      "https://www.fisherphillips.com/en/people/alba-v-aviles.html\n",
      "https://www.fisherphillips.com/en/people/jacob-axelrad.html\n",
      "https://www.fisherphillips.com/en/people/philip-j-azzara.html\n",
      "https://www.fisherphillips.com/en/people/areen-babajanian.html\n",
      "https://www.fisherphillips.com/en/people/davis-c-bae.html\n",
      "https://www.fisherphillips.com/en/people/stuart-o-baesel-jr.html\n",
      "https://www.fisherphillips.com/en/people/gary-d-baker-jr.html\n",
      "https://www.fisherphillips.com/en/people/mitchell-c-baker.html\n",
      "https://www.fisherphillips.com/en/people/wendy-baker.html\n",
      "https://www.fisherphillips.com/en/people/shayna-balch-santiago.html\n",
      "https://www.fisherphillips.com/en/people/gregory-d-ballew.html\n",
      "https://www.fisherphillips.com/en/people/brian-balonick.html\n",
      "https://www.fisherphillips.com/en/people/christine-baran.html\n",
      "https://www.fisherphillips.com/en/people/ilyana-barrera.html\n",
      "https://www.fisherphillips.com/en/people/phillip-c-bauknight.html\n",
      "https://www.fisherphillips.com/en/people/cheryl-l-behymer.html\n",
      "https://www.fisherphillips.com/en/people/clarence-m-belnavis.html\n",
      "https://www.fisherphillips.com/en/people/sarah-bennett.html\n",
      "https://www.fisherphillips.com/en/people/steven-m-bernstein.html\n",
      "https://www.fisherphillips.com/en/people/marianna-bertikian.html\n",
      "https://www.fisherphillips.com/en/people/amanda-m-blair.html\n",
      "https://www.fisherphillips.com/en/people/gregory-blueford.html\n",
      "https://www.fisherphillips.com/en/people/sheldon-j-blumling.html\n",
      "https://www.fisherphillips.com/en/people/ted-boehm.html\n",
      "https://www.fisherphillips.com/en/people/risa-b-boerner.html\n",
      "https://www.fisherphillips.com/en/people/suzanne-k-bogdan.html\n",
      "https://www.fisherphillips.com/en/people/christopher-j-boman.html\n",
      "https://www.fisherphillips.com/en/people/michael-e-bonner.html\n",
      "https://www.fisherphillips.com/en/people/samantha-sherwood-bononno.html\n",
      "https://www.fisherphillips.com/en/people/katie-bostrom.html\n",
      "https://www.fisherphillips.com/en/people/thomas-boswell.html\n",
      "https://www.fisherphillips.com/en/people/sophia-botti.html\n",
      "https://www.fisherphillips.com/en/people/ani-boyadjian.html\n",
      "https://www.fisherphillips.com/en/people/james-s-bradbury.html\n",
      "https://www.fisherphillips.com/en/people/d-albert-brannen.html\n",
      "https://www.fisherphillips.com/en/people/andrea-brizio-rivas.html\n",
      "https://www.fisherphillips.com/en/people/piper-brockley.html\n",
      "https://www.fisherphillips.com/en/people/arielle-e-brown.html\n",
      "https://www.fisherphillips.com/en/people/caroline-j-brown.html\n",
      "https://www.fisherphillips.com/en/people/jason-brown.html\n",
      "https://www.fisherphillips.com/en/people/laura-bailey-brown.html\n",
      "https://www.fisherphillips.com/en/people/tony-brown.html\n",
      "https://www.fisherphillips.com/en/people/kristina-noel-buan.html\n",
      "https://www.fisherphillips.com/en/people/raeann-burgo.html\n",
      "https://www.fisherphillips.com/en/people/lauren-bushman.html\n",
      "https://www.fisherphillips.com/en/people/arit-dilip-butani.html\n",
      "https://www.fisherphillips.com/en/people/shannon-n-cahill.html\n",
      "https://www.fisherphillips.com/en/people/colin-p-calvert.html\n",
      "https://www.fisherphillips.com/en/people/kathleen-mcleod-caminiti.html\n",
      "https://www.fisherphillips.com/en/people/melissa-osipoff-camire.html\n",
      "https://www.fisherphillips.com/en/people/jocelyn-campanaro.html\n",
      "https://www.fisherphillips.com/en/people/wayne-campbell.html\n",
      "https://www.fisherphillips.com/en/people/amy-canning.html\n",
      "https://www.fisherphillips.com/en/people/nicole-p-cantey.html\n",
      "https://www.fisherphillips.com/en/people/christopher-j-capone.html\n",
      "https://www.fisherphillips.com/en/people/christopher-caravello.html\n",
      "https://www.fisherphillips.com/en/people/samantha-cardarelli.html\n",
      "https://www.fisherphillips.com/en/people/giovanni-cardenas.html\n",
      "https://www.fisherphillips.com/en/people/aaron-cargain.html\n",
      "https://www.fisherphillips.com/en/people/ben-carney.html\n",
      "https://www.fisherphillips.com/en/people/matthew-carpenter.html\n",
      "https://www.fisherphillips.com/en/people/jennifer-b-carroll.html\n",
      "https://www.fisherphillips.com/en/people/michael-d-carrouth.html\n",
      "https://www.fisherphillips.com/en/people/brian-casal.html\n",
      "https://www.fisherphillips.com/en/people/gustavo-castro.html\n",
      "https://www.fisherphillips.com/en/people/charles-s-caulkins.html\n",
      "https://www.fisherphillips.com/en/people/jessica-d-causgrove.html\n",
      "https://www.fisherphillips.com/en/people/christopher-m-champine.html\n",
      "https://www.fisherphillips.com/en/people/garrick-y-chan.html\n",
      "https://www.fisherphillips.com/en/people/lyle-m-chan.html\n",
      "https://www.fisherphillips.com/en/people/christopher-chaplin.html\n",
      "https://www.fisherphillips.com/en/people/hugo-chavez.html\n",
      "https://www.fisherphillips.com/en/people/sieu-che.html\n",
      "https://www.fisherphillips.com/en/people/caroline-cheek.html\n",
      "https://www.fisherphillips.com/en/people/kyley-chelwick.html\n",
      "https://www.fisherphillips.com/en/people/xiaochen-chen.html\n",
      "https://www.fisherphillips.com/en/people/tatiana-s-chiu.html\n",
      "https://www.fisherphillips.com/en/people/robert-c-christenson.html\n",
      "https://www.fisherphillips.com/en/people/julia-w-clark.html\n",
      "https://www.fisherphillips.com/en/people/megan-f-clark.html\n",
      "https://www.fisherphillips.com/en/people/jerry-paul-cline.html\n",
      "https://www.fisherphillips.com/en/people/brandy-cody.html\n",
      "https://www.fisherphillips.com/en/people/j-randall-coffey.html\n",
      "https://www.fisherphillips.com/en/people/tillman-y-coffey.html\n",
      "https://www.fisherphillips.com/en/people/kendall-cole.html\n",
      "https://www.fisherphillips.com/en/people/jessica-collins.html\n",
      "https://www.fisherphillips.com/en/people/patrick-j-collopy.html\n",
      "https://www.fisherphillips.com/en/people/theresa-m-connolly.html\n",
      "https://www.fisherphillips.com/en/people/christopher-conti.html\n",
      "https://www.fisherphillips.com/en/people/collin-d-cook.html\n",
      "https://www.fisherphillips.com/en/people/jessica-t-cook.html\n",
      "https://www.fisherphillips.com/en/people/laurel-k-cornell.html\n",
      "https://www.fisherphillips.com/en/people/brent-a-cossrow.html\n",
      "https://www.fisherphillips.com/en/people/brian-j-coughlin.html\n"
     ]
    }
   ],
   "source": [
    "\n",
    "for url in page_links:\n",
    "    \n",
    "    response = requests.get(url, headers=headers)\n",
    "    souped = soup(response.content, 'html.parser')\n",
    "    response.close()\n",
    "\n",
    "    result = souped.find_all(\"dt\",{\"class\":\"type__h3\"})\n",
    "\n",
    "    people = []\n",
    "    for item in result: people.append(item.findChild('a')['href'])\n",
    "\n",
    "    for p in people:\n",
    "\n",
    "        #hitting the webpage for ppl list\n",
    "        person = requests.get(p, headers=headers)\n",
    "\n",
    "        per_soup = soup(person.content, 'html.parser')\n",
    "        person.close()\n",
    "\n",
    "        #bio - has all profile data\n",
    "        bio = per_soup.find_all(\"div\", {\"class\": \"rte\"})\n",
    "\n",
    "        #print(bio)\n",
    "        print(p)\n",
    "\n",
    "        #get overview\n",
    "        \n",
    "        try:\n",
    "            overview = [str(x.text) for x in bio[0].find_all('p')]\n",
    "            overview = ' '.join(overview).replace(u'\\xa0', u' ')\n",
    "        except IndexError:\n",
    "            overview = 'null'\n",
    "\n",
    "        #get education\n",
    "        tmp = []\n",
    "        #for loop for possible iteration\n",
    "        try:\n",
    "            target = bio[1].find('h3',string='Education')\n",
    "            if target is not None:\n",
    "                for sib in target.find_next_siblings():\n",
    "                    if sib.name==\"h3\":\n",
    "                        break\n",
    "                    else:\n",
    "                        tmp.append(sib.text)\n",
    "\n",
    "                for i in tmp:\n",
    "                    x = i.split(\"\\n\")\n",
    "\n",
    "                edu = [z for z in x if z != '']\n",
    "        except IndexError:\n",
    "            edu = []\n",
    "                \n",
    "                \n",
    "        #get bar admissions\n",
    "        tmp = []\n",
    "        #for loop for possible iteration\n",
    "        try:\n",
    "            target = bio[1].find('h3',string='Bar Admissions')\n",
    "            if target is not None:\n",
    "                for sib in target.find_next_siblings():\n",
    "                    if sib.name==\"h3\":\n",
    "                        break\n",
    "                    else:\n",
    "                        tmp.append(sib.text)\n",
    "\n",
    "                for i in tmp:\n",
    "                    x = i.split(\"\\n\")\n",
    "\n",
    "                bar = [z for z in x if z != '']\n",
    "        except IndexError:\n",
    "            bar = []\n",
    "\n",
    "        #get court admissions\n",
    "        tmp = []\n",
    "        #for loop for possible iteration\n",
    "        try:\n",
    "            target = bio[1].find('h3',string='Court Admissions')\n",
    "            if target is not None:\n",
    "                for sib in target.find_next_siblings():\n",
    "                    if sib.name==\"h3\":\n",
    "                        break\n",
    "                    else:\n",
    "                        tmp.append(sib.text)\n",
    "\n",
    "                for i in tmp:\n",
    "                    x = i.split(\"\\n\")\n",
    "\n",
    "                court = [z for z in x if z != '']\n",
    "        except IndexError:\n",
    "            court = []\n",
    "            \n",
    "        #get recognitions\n",
    "        recog = []  \n",
    "        try:\n",
    "            for item in bio[2].find_all('li'):\n",
    "                recog.append(item.text)\n",
    "        except IndexError:\n",
    "            recog.append('null')\n",
    "\n",
    "        #get affiliations\n",
    "        affil = []\n",
    "        try:\n",
    "            for item in bio[3].find_all('li'):\n",
    "                affil.append(item.text)\n",
    "        except IndexError:\n",
    "            affil.append('null')\n",
    "\n",
    "        #get name\n",
    "        name = per_soup.find(\"meta\", {\"property\": \"og:title\"})['content']\n",
    "\n",
    "        #get service focus\n",
    "        tmp = []\n",
    "        #for loop for possible iteration\n",
    "        focus = per_soup.find(\"h2\", string= \"Service Focus\")\n",
    "        if focus is not None:\n",
    "            for sib in focus.find_next_siblings():\n",
    "                if sib.name==\"h2\":\n",
    "                    break\n",
    "                else:\n",
    "                    tmp.append(sib.text)\n",
    "\n",
    "            for i in tmp:\n",
    "                x = i.split(\"\\n\")\n",
    "\n",
    "            serFoc = [z for z in x if z != '']\n",
    "\n",
    "        #get industry focus\n",
    "        tmp = []\n",
    "\n",
    "        #for loop for possible iteration\n",
    "        focus = per_soup.find(\"h2\", string= \"Industry Focus\")\n",
    "        if focus is not None:\n",
    "            for sib in focus.find_next_siblings():\n",
    "                if sib.name==\"h2\":\n",
    "                    break\n",
    "                else:\n",
    "                    tmp.append(sib.text)\n",
    "\n",
    "            for i in tmp:\n",
    "                x = i.split(\"\\n\")\n",
    "\n",
    "            indFoc = [z for z in x if z != '']\n",
    "\n",
    "\n",
    "        #create dataframe and concat\n",
    "        new = {\n",
    "        'name':name,\n",
    "        'overview':overview,\n",
    "        'serviceFocus':serFoc,\n",
    "        'industryFocus':indFoc,\n",
    "        'education':edu,\n",
    "        'barAdmissions':bar,\n",
    "        'courtAdmissions':court,\n",
    "        'recognitions':recog,\n",
    "        'affiliations':affil\n",
    "        }\n",
    "\n",
    "        df = pd.DataFrame.from_dict(new, orient='index')\n",
    "        df = df.transpose()\n",
    "\n",
    "        fpbio = pd.concat([fpbio,df], ignore_index=True)\n"
   ]
  },
  {
   "cell_type": "code",
   "execution_count": 48,
   "id": "24e79afc",
   "metadata": {},
   "outputs": [
    {
     "name": "stdout",
     "output_type": "stream",
     "text": [
      "success\n"
     ]
    }
   ],
   "source": [
    "print('success')"
   ]
  },
  {
   "cell_type": "code",
   "execution_count": 50,
   "id": "ea65d33c",
   "metadata": {},
   "outputs": [
    {
     "data": {
      "text/plain": [
       "['https://www.fisherphillips.com/en/people/kyley-chelwick.html',\n",
       " 'https://www.fisherphillips.com/en/people/xiaochen-chen.html',\n",
       " 'https://www.fisherphillips.com/en/people/tatiana-s-chiu.html',\n",
       " 'https://www.fisherphillips.com/en/people/robert-c-christenson.html',\n",
       " 'https://www.fisherphillips.com/en/people/julia-w-clark.html',\n",
       " 'https://www.fisherphillips.com/en/people/megan-f-clark.html',\n",
       " 'https://www.fisherphillips.com/en/people/jerry-paul-cline.html',\n",
       " 'https://www.fisherphillips.com/en/people/brandy-cody.html',\n",
       " 'https://www.fisherphillips.com/en/people/j-randall-coffey.html',\n",
       " 'https://www.fisherphillips.com/en/people/tillman-y-coffey.html',\n",
       " 'https://www.fisherphillips.com/en/people/kendall-cole.html',\n",
       " 'https://www.fisherphillips.com/en/people/jessica-collins.html',\n",
       " 'https://www.fisherphillips.com/en/people/patrick-j-collopy.html',\n",
       " 'https://www.fisherphillips.com/en/people/theresa-m-connolly.html',\n",
       " 'https://www.fisherphillips.com/en/people/christopher-conti.html',\n",
       " 'https://www.fisherphillips.com/en/people/collin-d-cook.html',\n",
       " 'https://www.fisherphillips.com/en/people/jessica-t-cook.html',\n",
       " 'https://www.fisherphillips.com/en/people/laurel-k-cornell.html',\n",
       " 'https://www.fisherphillips.com/en/people/brent-a-cossrow.html',\n",
       " 'https://www.fisherphillips.com/en/people/brian-j-coughlin.html']"
      ]
     },
     "execution_count": 50,
     "metadata": {},
     "output_type": "execute_result"
    }
   ],
   "source": [
    "people"
   ]
  },
  {
   "cell_type": "code",
   "execution_count": 51,
   "id": "539e0239",
   "metadata": {},
   "outputs": [
    {
     "data": {
      "text/html": [
       "<div>\n",
       "<style scoped>\n",
       "    .dataframe tbody tr th:only-of-type {\n",
       "        vertical-align: middle;\n",
       "    }\n",
       "\n",
       "    .dataframe tbody tr th {\n",
       "        vertical-align: top;\n",
       "    }\n",
       "\n",
       "    .dataframe thead th {\n",
       "        text-align: right;\n",
       "    }\n",
       "</style>\n",
       "<table border=\"1\" class=\"dataframe\">\n",
       "  <thead>\n",
       "    <tr style=\"text-align: right;\">\n",
       "      <th></th>\n",
       "      <th>name</th>\n",
       "      <th>overview</th>\n",
       "      <th>serviceFocus</th>\n",
       "      <th>industryFocus</th>\n",
       "      <th>education</th>\n",
       "      <th>barAdmissions</th>\n",
       "      <th>courtAdmissions</th>\n",
       "      <th>recognitions</th>\n",
       "      <th>affiliations</th>\n",
       "    </tr>\n",
       "  </thead>\n",
       "  <tbody>\n",
       "    <tr>\n",
       "      <th>0</th>\n",
       "      <td>Michael V. Abcarian</td>\n",
       "      <td>Mike Abcarian is managing partner of the firm'...</td>\n",
       "      <td>[Class and Collective Actions, Labor Relations...</td>\n",
       "      <td>[Education, K-12 Institutions]</td>\n",
       "      <td>[J.D., 1977, Boston College Law School, A.B., ...</td>\n",
       "      <td>[Georgia, Texas]</td>\n",
       "      <td>[Florida Supreme Court, Georgia Court of Appea...</td>\n",
       "      <td>[Recognized in The Best Lawyers in America (20...</td>\n",
       "      <td>[Board Certified in Labor and Employment Law b...</td>\n",
       "    </tr>\n",
       "    <tr>\n",
       "      <th>1</th>\n",
       "      <td>Sheila M. Abron</td>\n",
       "      <td>Sheila Abron (Willis) is a Partner in the Colu...</td>\n",
       "      <td>[Affirmative Action and Federal Contract Compl...</td>\n",
       "      <td>[Education, Retail, Higher Education, Hospital...</td>\n",
       "      <td>[J.D., 2011, University of South Carolina Scho...</td>\n",
       "      <td>[South Carolina]</td>\n",
       "      <td>[U.S. Court of Appeals for the Fourth Circuit,...</td>\n",
       "      <td>[Recognized in The Best Lawyers in America (20...</td>\n",
       "      <td>[South Carolina Bar Young Lawyers Division, Pr...</td>\n",
       "    </tr>\n",
       "    <tr>\n",
       "      <th>2</th>\n",
       "      <td>George D. Adams</td>\n",
       "      <td>George Adams is one of the four founding partn...</td>\n",
       "      <td>[Labor Relations, Litigation and Trials, Couns...</td>\n",
       "      <td>[Manufacturing]</td>\n",
       "      <td>[J.D., 2000, cum laude, University of Louisvil...</td>\n",
       "      <td>[Kentucky]</td>\n",
       "      <td>[Kentucky Supreme Court, U.S. Court of Appeals...</td>\n",
       "      <td>[Recognized in The Best Lawyers in America (20...</td>\n",
       "      <td>[Kentucky Association of Manufacturers, Board ...</td>\n",
       "    </tr>\n",
       "    <tr>\n",
       "      <th>3</th>\n",
       "      <td>Vincent J. Adams</td>\n",
       "      <td>Vincent Adams is an Of Counsel in the firm's S...</td>\n",
       "      <td>[Labor Relations, Litigation and Trials, Couns...</td>\n",
       "      <td>[Manufacturing]</td>\n",
       "      <td>[J.D., 2006, Pepperdine University Caruso Scho...</td>\n",
       "      <td>[California]</td>\n",
       "      <td>[U.S. District Court for the Central District ...</td>\n",
       "      <td>[Selected for inclusion in Rising Stars for No...</td>\n",
       "      <td>[Contra Costa Bar Association ]</td>\n",
       "    </tr>\n",
       "    <tr>\n",
       "      <th>4</th>\n",
       "      <td>Nazanin Afshar</td>\n",
       "      <td>Nazanin Afshar is a partner in the firm’s Los ...</td>\n",
       "      <td>[Class and Collective Actions, Employment Disc...</td>\n",
       "      <td>[Education, Higher Education]</td>\n",
       "      <td>[J.D., 2006, Pepperdine University Caruso Scho...</td>\n",
       "      <td>[California]</td>\n",
       "      <td>[U.S. District Court for the Central District ...</td>\n",
       "      <td>[Third-chaired an arbitration and obtained a f...</td>\n",
       "      <td>[J.D., 2012, University of California, Hasting...</td>\n",
       "    </tr>\n",
       "    <tr>\n",
       "      <th>...</th>\n",
       "      <td>...</td>\n",
       "      <td>...</td>\n",
       "      <td>...</td>\n",
       "      <td>...</td>\n",
       "      <td>...</td>\n",
       "      <td>...</td>\n",
       "      <td>...</td>\n",
       "      <td>...</td>\n",
       "      <td>...</td>\n",
       "    </tr>\n",
       "    <tr>\n",
       "      <th>115</th>\n",
       "      <td>Collin D. Cook</td>\n",
       "      <td>Collin Cook is a partner in the firm’s San Fra...</td>\n",
       "      <td>[Class and Collective Actions, Counseling and ...</td>\n",
       "      <td>[Automotive Dealership, Aviation, Construction...</td>\n",
       "      <td>[J.D., 2007, Loyola Marymount University, Loyo...</td>\n",
       "      <td>[California]</td>\n",
       "      <td>[California Supreme Court, U.S. Court of Appea...</td>\n",
       "      <td>[Southern California Super Lawyers - \"Rising S...</td>\n",
       "      <td>[Member, Employment Law Section, Contra Costa ...</td>\n",
       "    </tr>\n",
       "    <tr>\n",
       "      <th>116</th>\n",
       "      <td>Jessica T. Cook</td>\n",
       "      <td>Jessica Cook is a partner in the Atlanta offic...</td>\n",
       "      <td>[Immigration]</td>\n",
       "      <td>[Automotive Dealership, Aviation, Construction...</td>\n",
       "      <td>[J.D., 2007, Loyola Marymount University, Loyo...</td>\n",
       "      <td>[California]</td>\n",
       "      <td>[California Supreme Court, U.S. Court of Appea...</td>\n",
       "      <td>[Permanent residence cases for Aliens of Extra...</td>\n",
       "      <td>[J.D., 2004, William and Mary School of Law, B...</td>\n",
       "    </tr>\n",
       "    <tr>\n",
       "      <th>117</th>\n",
       "      <td>Laurel K. Cornell</td>\n",
       "      <td>Laurel Cornell is the managing partner of the ...</td>\n",
       "      <td>[Counseling and Advice, Employment Discriminat...</td>\n",
       "      <td>[Healthcare]</td>\n",
       "      <td>[J.D., 2007, University of Kentucky College of...</td>\n",
       "      <td>[Kentucky]</td>\n",
       "      <td>[U.S. Court of Appeals for the Sixth Circuit, ...</td>\n",
       "      <td>[Recommended as a leading practitioner for Wor...</td>\n",
       "      <td>[Chair, Louisville Bar Association's Labor &amp; E...</td>\n",
       "    </tr>\n",
       "    <tr>\n",
       "      <th>118</th>\n",
       "      <td>Brent A. Cossrow</td>\n",
       "      <td>Brent Cossrow is a partner in the Philadelphia...</td>\n",
       "      <td>[eDiscovery and Digital Workplace, Employee De...</td>\n",
       "      <td>[Healthcare]</td>\n",
       "      <td>[J.D., University of Pittsburgh School of Law,...</td>\n",
       "      <td>[New Jersey, Pennsylvania]</td>\n",
       "      <td>[U.S. Court of Appeals for the Fourth Circuit,...</td>\n",
       "      <td>[Member, Defense Research Institute, Member, P...</td>\n",
       "      <td>[null]</td>\n",
       "    </tr>\n",
       "    <tr>\n",
       "      <th>119</th>\n",
       "      <td>Brian J. Coughlin</td>\n",
       "      <td>Brian Coughlin has more than fifteen years of ...</td>\n",
       "      <td>[Counseling and Advice, Immigration]</td>\n",
       "      <td>[Life Sciences, Transportation and Supply Chai...</td>\n",
       "      <td>[J.D., 2005, Suffolk University Law School, B....</td>\n",
       "      <td>[Massachusetts]</td>\n",
       "      <td>[U.S. District Court for the District of Massa...</td>\n",
       "      <td>[Massachusetts Super Lawyers “Rising Star” (20...</td>\n",
       "      <td>[American Immigration Lawyers Association, Bos...</td>\n",
       "    </tr>\n",
       "  </tbody>\n",
       "</table>\n",
       "<p>120 rows × 9 columns</p>\n",
       "</div>"
      ],
      "text/plain": [
       "                    name                                           overview  \\\n",
       "0    Michael V. Abcarian  Mike Abcarian is managing partner of the firm'...   \n",
       "1        Sheila M. Abron  Sheila Abron (Willis) is a Partner in the Colu...   \n",
       "2        George D. Adams  George Adams is one of the four founding partn...   \n",
       "3       Vincent J. Adams  Vincent Adams is an Of Counsel in the firm's S...   \n",
       "4         Nazanin Afshar  Nazanin Afshar is a partner in the firm’s Los ...   \n",
       "..                   ...                                                ...   \n",
       "115       Collin D. Cook  Collin Cook is a partner in the firm’s San Fra...   \n",
       "116      Jessica T. Cook  Jessica Cook is a partner in the Atlanta offic...   \n",
       "117    Laurel K. Cornell  Laurel Cornell is the managing partner of the ...   \n",
       "118     Brent A. Cossrow  Brent Cossrow is a partner in the Philadelphia...   \n",
       "119    Brian J. Coughlin  Brian Coughlin has more than fifteen years of ...   \n",
       "\n",
       "                                          serviceFocus  \\\n",
       "0    [Class and Collective Actions, Labor Relations...   \n",
       "1    [Affirmative Action and Federal Contract Compl...   \n",
       "2    [Labor Relations, Litigation and Trials, Couns...   \n",
       "3    [Labor Relations, Litigation and Trials, Couns...   \n",
       "4    [Class and Collective Actions, Employment Disc...   \n",
       "..                                                 ...   \n",
       "115  [Class and Collective Actions, Counseling and ...   \n",
       "116                                      [Immigration]   \n",
       "117  [Counseling and Advice, Employment Discriminat...   \n",
       "118  [eDiscovery and Digital Workplace, Employee De...   \n",
       "119               [Counseling and Advice, Immigration]   \n",
       "\n",
       "                                         industryFocus  \\\n",
       "0                       [Education, K-12 Institutions]   \n",
       "1    [Education, Retail, Higher Education, Hospital...   \n",
       "2                                      [Manufacturing]   \n",
       "3                                      [Manufacturing]   \n",
       "4                        [Education, Higher Education]   \n",
       "..                                                 ...   \n",
       "115  [Automotive Dealership, Aviation, Construction...   \n",
       "116  [Automotive Dealership, Aviation, Construction...   \n",
       "117                                       [Healthcare]   \n",
       "118                                       [Healthcare]   \n",
       "119  [Life Sciences, Transportation and Supply Chai...   \n",
       "\n",
       "                                             education  \\\n",
       "0    [J.D., 1977, Boston College Law School, A.B., ...   \n",
       "1    [J.D., 2011, University of South Carolina Scho...   \n",
       "2    [J.D., 2000, cum laude, University of Louisvil...   \n",
       "3    [J.D., 2006, Pepperdine University Caruso Scho...   \n",
       "4    [J.D., 2006, Pepperdine University Caruso Scho...   \n",
       "..                                                 ...   \n",
       "115  [J.D., 2007, Loyola Marymount University, Loyo...   \n",
       "116  [J.D., 2007, Loyola Marymount University, Loyo...   \n",
       "117  [J.D., 2007, University of Kentucky College of...   \n",
       "118  [J.D., University of Pittsburgh School of Law,...   \n",
       "119  [J.D., 2005, Suffolk University Law School, B....   \n",
       "\n",
       "                  barAdmissions  \\\n",
       "0              [Georgia, Texas]   \n",
       "1              [South Carolina]   \n",
       "2                    [Kentucky]   \n",
       "3                  [California]   \n",
       "4                  [California]   \n",
       "..                          ...   \n",
       "115                [California]   \n",
       "116                [California]   \n",
       "117                  [Kentucky]   \n",
       "118  [New Jersey, Pennsylvania]   \n",
       "119             [Massachusetts]   \n",
       "\n",
       "                                       courtAdmissions  \\\n",
       "0    [Florida Supreme Court, Georgia Court of Appea...   \n",
       "1    [U.S. Court of Appeals for the Fourth Circuit,...   \n",
       "2    [Kentucky Supreme Court, U.S. Court of Appeals...   \n",
       "3    [U.S. District Court for the Central District ...   \n",
       "4    [U.S. District Court for the Central District ...   \n",
       "..                                                 ...   \n",
       "115  [California Supreme Court, U.S. Court of Appea...   \n",
       "116  [California Supreme Court, U.S. Court of Appea...   \n",
       "117  [U.S. Court of Appeals for the Sixth Circuit, ...   \n",
       "118  [U.S. Court of Appeals for the Fourth Circuit,...   \n",
       "119  [U.S. District Court for the District of Massa...   \n",
       "\n",
       "                                          recognitions  \\\n",
       "0    [Recognized in The Best Lawyers in America (20...   \n",
       "1    [Recognized in The Best Lawyers in America (20...   \n",
       "2    [Recognized in The Best Lawyers in America (20...   \n",
       "3    [Selected for inclusion in Rising Stars for No...   \n",
       "4    [Third-chaired an arbitration and obtained a f...   \n",
       "..                                                 ...   \n",
       "115  [Southern California Super Lawyers - \"Rising S...   \n",
       "116  [Permanent residence cases for Aliens of Extra...   \n",
       "117  [Recommended as a leading practitioner for Wor...   \n",
       "118  [Member, Defense Research Institute, Member, P...   \n",
       "119  [Massachusetts Super Lawyers “Rising Star” (20...   \n",
       "\n",
       "                                          affiliations  \n",
       "0    [Board Certified in Labor and Employment Law b...  \n",
       "1    [South Carolina Bar Young Lawyers Division, Pr...  \n",
       "2    [Kentucky Association of Manufacturers, Board ...  \n",
       "3                      [Contra Costa Bar Association ]  \n",
       "4    [J.D., 2012, University of California, Hasting...  \n",
       "..                                                 ...  \n",
       "115  [Member, Employment Law Section, Contra Costa ...  \n",
       "116  [J.D., 2004, William and Mary School of Law, B...  \n",
       "117  [Chair, Louisville Bar Association's Labor & E...  \n",
       "118                                             [null]  \n",
       "119  [American Immigration Lawyers Association, Bos...  \n",
       "\n",
       "[120 rows x 9 columns]"
      ]
     },
     "execution_count": 51,
     "metadata": {},
     "output_type": "execute_result"
    }
   ],
   "source": [
    "fpbio"
   ]
  },
  {
   "cell_type": "code",
   "execution_count": 52,
   "id": "0736e563",
   "metadata": {},
   "outputs": [],
   "source": [
    "fpbio.to_csv('out1.csv', mode='w+')"
   ]
  },
  {
   "cell_type": "code",
   "execution_count": null,
   "id": "bac51def",
   "metadata": {},
   "outputs": [],
   "source": []
  }
 ],
 "metadata": {
  "kernelspec": {
   "display_name": "Python 3 (ipykernel)",
   "language": "python",
   "name": "python3"
  },
  "language_info": {
   "codemirror_mode": {
    "name": "ipython",
    "version": 3
   },
   "file_extension": ".py",
   "mimetype": "text/x-python",
   "name": "python",
   "nbconvert_exporter": "python",
   "pygments_lexer": "ipython3",
   "version": "3.11.5"
  }
 },
 "nbformat": 4,
 "nbformat_minor": 5
}
